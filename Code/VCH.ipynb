{
 "cells": [
  {
   "cell_type": "code",
   "execution_count": 1,
   "metadata": {},
   "outputs": [],
   "source": [
    "import pandas as pd"
   ]
  },
  {
   "cell_type": "code",
   "execution_count": 2,
   "metadata": {},
   "outputs": [],
   "source": [
    "df = pd.read_csv ('data_tag/datatestv5.csv')"
   ]
  },
  {
   "cell_type": "code",
   "execution_count": 4,
   "metadata": {},
   "outputs": [
    {
     "data": {
      "text/html": [
       "<div>\n",
       "<style scoped>\n",
       "    .dataframe tbody tr th:only-of-type {\n",
       "        vertical-align: middle;\n",
       "    }\n",
       "\n",
       "    .dataframe tbody tr th {\n",
       "        vertical-align: top;\n",
       "    }\n",
       "\n",
       "    .dataframe thead th {\n",
       "        text-align: right;\n",
       "    }\n",
       "</style>\n",
       "<table border=\"1\" class=\"dataframe\">\n",
       "  <thead>\n",
       "    <tr style=\"text-align: right;\">\n",
       "      <th></th>\n",
       "      <th>Job_Title</th>\n",
       "      <th>Company</th>\n",
       "      <th>Location</th>\n",
       "      <th>Job_Position</th>\n",
       "      <th>Job_Type</th>\n",
       "      <th>Salary Min</th>\n",
       "      <th>Salary Max</th>\n",
       "      <th>Job_Description</th>\n",
       "      <th>Tag</th>\n",
       "      <th>Language</th>\n",
       "    </tr>\n",
       "  </thead>\n",
       "  <tbody>\n",
       "    <tr>\n",
       "      <th>0</th>\n",
       "      <td>GL Account Assistant Manager</td>\n",
       "      <td>MEGA CLINIC Co., Ltd.</td>\n",
       "      <td>Bangkok</td>\n",
       "      <td>Financial Accounting &amp; Reporting</td>\n",
       "      <td>Full time</td>\n",
       "      <td>36000.0</td>\n",
       "      <td>53000.0</td>\n",
       "      <td>About us ร่วมเป็นส่วนหนึ่งกับทีม MEGA CLINIC\\n...</td>\n",
       "      <td>Accounting</td>\n",
       "      <td>th</td>\n",
       "    </tr>\n",
       "    <tr>\n",
       "      <th>1</th>\n",
       "      <td>Tax Associate</td>\n",
       "      <td>PKF Holdings (Thailand) Limited</td>\n",
       "      <td>Bangkok</td>\n",
       "      <td>Taxation</td>\n",
       "      <td>Full time</td>\n",
       "      <td>NaN</td>\n",
       "      <td>NaN</td>\n",
       "      <td>Position Summary This position is for a lawyer...</td>\n",
       "      <td>Accounting</td>\n",
       "      <td>en</td>\n",
       "    </tr>\n",
       "    <tr>\n",
       "      <th>2</th>\n",
       "      <td>Accounts Receivable Supervisor/หัวหน้าหน่วยบัญ...</td>\n",
       "      <td>Sodexo Services (Thailand) Ltd.</td>\n",
       "      <td>Bangkok</td>\n",
       "      <td>Accounts Receivable/Credit Control</td>\n",
       "      <td>Full time</td>\n",
       "      <td>NaN</td>\n",
       "      <td>NaN</td>\n",
       "      <td>Reports To: FINANCE MANAGER Key Result Areas: ...</td>\n",
       "      <td>Accounting</td>\n",
       "      <td>en</td>\n",
       "    </tr>\n",
       "    <tr>\n",
       "      <th>3</th>\n",
       "      <td>Assistant Accounting Manager</td>\n",
       "      <td>Mazars Holding (Thailand) Ltd.</td>\n",
       "      <td>Bangkok</td>\n",
       "      <td>Business Services &amp; Corporate Advisory</td>\n",
       "      <td>Full time</td>\n",
       "      <td>NaN</td>\n",
       "      <td>NaN</td>\n",
       "      <td>Job Description Prepare management reports for...</td>\n",
       "      <td>Accounting</td>\n",
       "      <td>en</td>\n",
       "    </tr>\n",
       "    <tr>\n",
       "      <th>4</th>\n",
       "      <td>Assistant Tax Manager - M&amp;A and tax advisory</td>\n",
       "      <td>Mazars Holding (Thailand) Ltd.</td>\n",
       "      <td>Bangkok</td>\n",
       "      <td>Taxation</td>\n",
       "      <td>Full time</td>\n",
       "      <td>NaN</td>\n",
       "      <td>NaN</td>\n",
       "      <td>Job Description: The ideal candidate will be a...</td>\n",
       "      <td>Accounting</td>\n",
       "      <td>en</td>\n",
       "    </tr>\n",
       "  </tbody>\n",
       "</table>\n",
       "</div>"
      ],
      "text/plain": [
       "                                           Job_Title  \\\n",
       "0                       GL Account Assistant Manager   \n",
       "1                                      Tax Associate   \n",
       "2  Accounts Receivable Supervisor/หัวหน้าหน่วยบัญ...   \n",
       "3                       Assistant Accounting Manager   \n",
       "4       Assistant Tax Manager - M&A and tax advisory   \n",
       "\n",
       "                           Company Location  \\\n",
       "0            MEGA CLINIC Co., Ltd.  Bangkok   \n",
       "1  PKF Holdings (Thailand) Limited  Bangkok   \n",
       "2  Sodexo Services (Thailand) Ltd.  Bangkok   \n",
       "3   Mazars Holding (Thailand) Ltd.  Bangkok   \n",
       "4   Mazars Holding (Thailand) Ltd.  Bangkok   \n",
       "\n",
       "                             Job_Position   Job_Type  Salary Min  Salary Max  \\\n",
       "0        Financial Accounting & Reporting  Full time     36000.0     53000.0   \n",
       "1                                Taxation  Full time         NaN         NaN   \n",
       "2      Accounts Receivable/Credit Control  Full time         NaN         NaN   \n",
       "3  Business Services & Corporate Advisory  Full time         NaN         NaN   \n",
       "4                                Taxation  Full time         NaN         NaN   \n",
       "\n",
       "                                     Job_Description         Tag Language  \n",
       "0  About us ร่วมเป็นส่วนหนึ่งกับทีม MEGA CLINIC\\n...  Accounting       th  \n",
       "1  Position Summary This position is for a lawyer...  Accounting       en  \n",
       "2  Reports To: FINANCE MANAGER Key Result Areas: ...  Accounting       en  \n",
       "3  Job Description Prepare management reports for...  Accounting       en  \n",
       "4  Job Description: The ideal candidate will be a...  Accounting       en  "
      ]
     },
     "execution_count": 4,
     "metadata": {},
     "output_type": "execute_result"
    }
   ],
   "source": [
    "df.head()"
   ]
  },
  {
   "cell_type": "code",
   "execution_count": 20,
   "metadata": {},
   "outputs": [
    {
     "data": {
      "text/plain": [
       "array(['Full time', 'Contract/Temp', 'Part time',\n",
       "       'Contract/Temp, Full time', 'Full time, Contract/Temp',\n",
       "       'Casual/Vacation'], dtype=object)"
      ]
     },
     "execution_count": 20,
     "metadata": {},
     "output_type": "execute_result"
    }
   ],
   "source": [
    "df['Job_Type'].nunique()\n",
    "df['Job_Type'].unique()"
   ]
  },
  {
   "cell_type": "code",
   "execution_count": null,
   "metadata": {},
   "outputs": [],
   "source": []
  }
 ],
 "metadata": {
  "kernelspec": {
   "display_name": "EDA",
   "language": "python",
   "name": "python3"
  },
  "language_info": {
   "codemirror_mode": {
    "name": "ipython",
    "version": 3
   },
   "file_extension": ".py",
   "mimetype": "text/x-python",
   "name": "python",
   "nbconvert_exporter": "python",
   "pygments_lexer": "ipython3",
   "version": "3.12.0"
  }
 },
 "nbformat": 4,
 "nbformat_minor": 2
}
